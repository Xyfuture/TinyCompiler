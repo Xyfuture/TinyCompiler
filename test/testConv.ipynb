{
 "cells": [
  {
   "cell_type": "code",
   "execution_count": 1,
   "metadata": {
    "collapsed": true
   },
   "outputs": [],
   "source": [
    "import torch"
   ]
  },
  {
   "cell_type": "code",
   "execution_count": 2,
   "outputs": [],
   "source": [
    "import sys"
   ],
   "metadata": {
    "collapsed": false,
    "pycharm": {
     "name": "#%%\n"
    }
   }
  },
  {
   "cell_type": "code",
   "execution_count": 3,
   "outputs": [
    {
     "data": {
      "text/plain": "['E:\\\\code\\\\TinyCompiler\\\\test',\n 'E:\\\\code\\\\TinyCompiler',\n 'D:\\\\ProgramData\\\\Anaconda3\\\\envs\\\\torch\\\\python37.zip',\n 'D:\\\\ProgramData\\\\Anaconda3\\\\envs\\\\torch\\\\DLLs',\n 'D:\\\\ProgramData\\\\Anaconda3\\\\envs\\\\torch\\\\lib',\n 'D:\\\\ProgramData\\\\Anaconda3\\\\envs\\\\torch',\n '',\n 'D:\\\\ProgramData\\\\Anaconda3\\\\envs\\\\torch\\\\lib\\\\site-packages',\n 'D:\\\\ProgramData\\\\Anaconda3\\\\envs\\\\torch\\\\lib\\\\site-packages\\\\win32',\n 'D:\\\\ProgramData\\\\Anaconda3\\\\envs\\\\torch\\\\lib\\\\site-packages\\\\win32\\\\lib',\n 'D:\\\\ProgramData\\\\Anaconda3\\\\envs\\\\torch\\\\lib\\\\site-packages\\\\Pythonwin',\n 'D:\\\\ProgramData\\\\Anaconda3\\\\envs\\\\torch\\\\lib\\\\site-packages\\\\IPython\\\\extensions',\n 'C:\\\\Users\\\\xyfuture\\\\.ipython']"
     },
     "execution_count": 3,
     "metadata": {},
     "output_type": "execute_result"
    }
   ],
   "source": [
    "sys.path"
   ],
   "metadata": {
    "collapsed": false,
    "pycharm": {
     "name": "#%%\n"
    }
   }
  },
  {
   "cell_type": "code",
   "execution_count": 4,
   "outputs": [],
   "source": [
    "from TinyNet.modules import conv"
   ],
   "metadata": {
    "collapsed": false,
    "pycharm": {
     "name": "#%%\n"
    }
   }
  },
  {
   "cell_type": "code",
   "execution_count": 5,
   "outputs": [],
   "source": [
    "from TinyDSL.HwResource.config import core_config\n"
   ],
   "metadata": {
    "collapsed": false,
    "pycharm": {
     "name": "#%%\n"
    }
   }
  },
  {
   "cell_type": "code",
   "execution_count": 6,
   "outputs": [],
   "source": [
    "conv_config = {\n",
    "    'in_channels':32,'out_channels':64,'kernel_size':(3,3),'stride':(1,1),\n",
    "    'padding':(2,2),'group':1,'bias':True,'activation_func':'relu'\n",
    "}\n",
    "\n",
    "misc_config = {\n",
    "    'in_act_pad_shape':(28,28,32),'out_act_shape':(28,28,64),'meu_layout':(3,2),\n",
    "    'mat_shape':(288,64),'mat_bitwidth':1,'act_bitwidth':1,'core_config':core_config,'posi':[slice(0,288),slice(0,64)]\n",
    "}"
   ],
   "metadata": {
    "collapsed": false,
    "pycharm": {
     "name": "#%%\n"
    }
   }
  },
  {
   "cell_type": "code",
   "execution_count": 7,
   "outputs": [],
   "source": [
    "cc = conv.ConvCore(conv_config=conv_config,misc_config=misc_config)"
   ],
   "metadata": {
    "collapsed": false,
    "pycharm": {
     "name": "#%%\n"
    }
   }
  },
  {
   "cell_type": "code",
   "execution_count": 8,
   "outputs": [
    {
     "data": {
      "text/plain": "<TinyDSL.DataType.vector.VectorVar at 0x29b59deef08>"
     },
     "execution_count": 8,
     "metadata": {},
     "output_type": "execute_result"
    }
   ],
   "source": [
    "cc.compute(1,1)\n"
   ],
   "metadata": {
    "collapsed": false,
    "pycharm": {
     "name": "#%%\n"
    }
   }
  },
  {
   "cell_type": "code",
   "execution_count": 9,
   "outputs": [
    {
     "name": "stdout",
     "output_type": "stream",
     "text": [
      "op:ldi  rd:0  rs1:0  rs2:0  bitwidth:0  imm:0  funct5:0  \n",
      "op:ldi  rd:0  rs1:0  rs2:0  bitwidth:0  imm:64  funct5:0  \n",
      "op:ldi  rd:0  rs1:0  rs2:0  bitwidth:0  imm:1  funct5:0  \n",
      "op:ldi  rd:0  rs1:0  rs2:0  bitwidth:0  imm:64  funct5:0  \n",
      "op:ldi  rd:0  rs1:0  rs2:0  bitwidth:0  imm:2  funct5:0  \n",
      "op:ldi  rd:0  rs1:0  rs2:0  bitwidth:0  imm:64  funct5:0  \n",
      "op:ldi  rd:0  rs1:0  rs2:0  bitwidth:0  imm:64  funct5:0  \n",
      "op:vvset  rd:6  rs1:0  rs2:0  bitwidth:1  imm:0  funct5:0  \n",
      "op:ldi  rd:0  rs1:0  rs2:0  bitwidth:0  imm:25088  funct5:0  \n",
      "op:ldi  rd:0  rs1:0  rs2:0  bitwidth:0  imm:924  funct5:0  \n",
      "op:ldi  rd:0  rs1:0  rs2:0  bitwidth:0  imm:192  funct5:0  \n",
      "op:vmv  rd:7  rs1:8  rs2:9  bitwidth:0  imm:0  funct5:0  \n",
      "op:ldi  rd:0  rs1:0  rs2:0  bitwidth:0  imm:25280  funct5:0  \n",
      "op:ldi  rd:0  rs1:0  rs2:0  bitwidth:0  imm:1820  funct5:0  \n",
      "op:ldi  rd:0  rs1:0  rs2:0  bitwidth:0  imm:192  funct5:0  \n",
      "op:vmv  rd:10  rs1:11  rs2:12  bitwidth:0  imm:0  funct5:0  \n",
      "op:ldi  rd:0  rs1:0  rs2:0  bitwidth:0  imm:25472  funct5:0  \n",
      "op:ldi  rd:0  rs1:0  rs2:0  bitwidth:0  imm:2716  funct5:0  \n",
      "op:ldi  rd:0  rs1:0  rs2:0  bitwidth:0  imm:192  funct5:0  \n",
      "op:vmv  rd:13  rs1:14  rs2:15  bitwidth:0  imm:0  funct5:0  \n",
      "op:ldi  rd:0  rs1:0  rs2:0  bitwidth:0  imm:25664  funct5:0  \n",
      "op:ldi  rd:0  rs1:0  rs2:0  bitwidth:0  imm:64  funct5:0  \n",
      "op:sti  rd:16  rs1:17  rs2:0  bitwidth:0  imm:0  funct5:0  \n",
      "op:ldi  rd:0  rs1:0  rs2:0  bitwidth:0  imm:64  funct5:0  \n",
      "op:vvset  rd:18  rs1:0  rs2:0  bitwidth:4  imm:0  funct5:0  \n",
      "op:ldi  rd:0  rs1:0  rs2:0  bitwidth:0  imm:25088  funct5:0  \n",
      "op:ldi  rd:0  rs1:0  rs2:0  bitwidth:0  imm:128  funct5:0  \n",
      "op:gemv  rd:0  rs1:19  rs2:20  bitwidth:1  imm:0  funct5:0  \n",
      "op:ldi  rd:0  rs1:0  rs2:0  bitwidth:0  imm:25920  funct5:0  \n",
      "op:gvr  rd:0  rs1:21  rs2:1  bitwidth:0  imm:0  funct5:0  \n",
      "op:vvadd  rd:16  rs1:16  rs2:21  bitwidth:0  imm:0  funct5:0  \n",
      "op:ldi  rd:0  rs1:0  rs2:0  bitwidth:0  imm:25216  funct5:0  \n",
      "op:ldi  rd:0  rs1:0  rs2:0  bitwidth:0  imm:128  funct5:0  \n",
      "op:gemv  rd:2  rs1:22  rs2:23  bitwidth:1  imm:0  funct5:0  \n",
      "op:gvr  rd:2  rs1:21  rs2:3  bitwidth:0  imm:0  funct5:0  \n",
      "op:vvadd  rd:16  rs1:16  rs2:21  bitwidth:0  imm:0  funct5:0  \n",
      "op:ldi  rd:0  rs1:0  rs2:0  bitwidth:0  imm:25344  funct5:0  \n",
      "op:ldi  rd:0  rs1:0  rs2:0  bitwidth:0  imm:32  funct5:0  \n",
      "op:gemv  rd:4  rs1:24  rs2:25  bitwidth:1  imm:0  funct5:0  \n",
      "op:gvr  rd:4  rs1:21  rs2:5  bitwidth:0  imm:0  funct5:0  \n",
      "op:vvadd  rd:16  rs1:16  rs2:21  bitwidth:0  imm:0  funct5:0  \n",
      "\n"
     ]
    }
   ],
   "source": [
    "print(cc.core.inst_buffer)\n"
   ],
   "metadata": {
    "collapsed": false,
    "pycharm": {
     "name": "#%%\n"
    }
   }
  },
  {
   "cell_type": "code",
   "execution_count": 10,
   "outputs": [],
   "source": [
    "from TinyDSL.Utils.base import linkList"
   ],
   "metadata": {
    "collapsed": false,
    "pycharm": {
     "name": "#%%\n"
    }
   }
  },
  {
   "cell_type": "code",
   "execution_count": 11,
   "outputs": [],
   "source": [
    "link = linkList()"
   ],
   "metadata": {
    "collapsed": false,
    "pycharm": {
     "name": "#%%\n"
    }
   }
  },
  {
   "cell_type": "code",
   "execution_count": 12,
   "outputs": [],
   "source": [
    "link.append(123)"
   ],
   "metadata": {
    "collapsed": false,
    "pycharm": {
     "name": "#%%\n"
    }
   }
  },
  {
   "cell_type": "code",
   "execution_count": 13,
   "outputs": [
    {
     "name": "stdout",
     "output_type": "stream",
     "text": [
      "123\n",
      "\n"
     ]
    }
   ],
   "source": [
    "print(link)"
   ],
   "metadata": {
    "collapsed": false,
    "pycharm": {
     "name": "#%%\n"
    }
   }
  },
  {
   "cell_type": "code",
   "execution_count": 13,
   "outputs": [],
   "source": [],
   "metadata": {
    "collapsed": false,
    "pycharm": {
     "name": "#%%\n"
    }
   }
  }
 ],
 "metadata": {
  "kernelspec": {
   "name": "torch",
   "language": "python",
   "display_name": "torch"
  },
  "language_info": {
   "codemirror_mode": {
    "name": "ipython",
    "version": 2
   },
   "file_extension": ".py",
   "mimetype": "text/x-python",
   "name": "python",
   "nbconvert_exporter": "python",
   "pygments_lexer": "ipython2",
   "version": "2.7.6"
  }
 },
 "nbformat": 4,
 "nbformat_minor": 0
}